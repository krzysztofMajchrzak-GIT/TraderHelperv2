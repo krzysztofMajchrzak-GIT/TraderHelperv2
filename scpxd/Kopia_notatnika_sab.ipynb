{
  "cells": [
    {
      "cell_type": "markdown",
      "metadata": {
        "id": "jvevzY3Z4a9A"
      },
      "source": [
        "## Connecting to google drive"
      ]
    },
    {
      "cell_type": "code",
      "execution_count": 1,
      "metadata": {
        "id": "j24-0cob4fJJ",
        "colab": {
          "base_uri": "https://localhost:8080/"
        },
        "outputId": "8bace5df-0aaf-4209-d94e-927bc394c7f4"
      },
      "outputs": [
        {
          "output_type": "stream",
          "name": "stdout",
          "text": [
            "Mounted at /content/gdrive\n"
          ]
        }
      ],
      "source": [
        "from google.colab import drive\n",
        "drive.mount('/content/gdrive')"
      ]
    },
    {
      "cell_type": "markdown",
      "metadata": {
        "id": "HI31MPDmz_s0"
      },
      "source": [
        "## Imports"
      ]
    },
    {
      "cell_type": "code",
      "execution_count": 2,
      "metadata": {
        "id": "sIIGvRjAz_ZP"
      },
      "outputs": [],
      "source": [
        "from contextlib import redirect_stdout\n",
        "from tensorflow.keras.callbacks import CSVLogger\n",
        "from tensorflow.keras.callbacks import ModelCheckpoint\n",
        "from tensorflow.keras.callbacks import EarlyStopping\n",
        "from tensorflow.keras.callbacks import LearningRateScheduler\n",
        "import tensorflow as tf\n",
        "import io\n",
        "import time\n",
        "import numpy as np\n",
        "import pandas as pd\n",
        "import json\n",
        "import os\n",
        "import logging\n",
        "import multiprocessing\n",
        "import matplotlib.pyplot as plt\n",
        "import subprocess\n",
        "os.environ['TF_CPP_MIN_LOG_LEVEL'] = '0'\n",
        "os.environ['TF_ENABLE_ONEDNN_OPTS'] = '0'\n",
        "import tensorflow as tf\n",
        "from tensorflow.keras.layers import Dense, LSTM\n",
        "import pandas as pd\n",
        "import numpy as np\n",
        "from scipy.signal import savgol_filter"
      ]
    },
    {
      "cell_type": "markdown",
      "metadata": {
        "id": "V32Hmkf60J93"
      },
      "source": [
        "## Constants"
      ]
    },
    {
      "cell_type": "code",
      "execution_count": 3,
      "metadata": {
        "id": "GMgVGdds0N2y"
      },
      "outputs": [],
      "source": [
        "timestamp = time.strftime(\"%Y%m%d-%H%M%S\")\n",
        "\n",
        "\n",
        "# Access the parameters\n",
        "filename = \"/content/gdrive/MyDrive/binance_eth.csv\"\n",
        "window_size = 72\n",
        "num_features = 8\n",
        "batch_size = 32\n",
        "epochs = 100\n",
        "initial_learning_rate = 0.001\n",
        "l2_reg = 0.1\n",
        "interval = \"5T\"\n",
        "train_size = 0.8\n",
        "validation_size = 0.1\n",
        "test_size = 0.1\n",
        "nr_of_labels = 2\n",
        "modifier = 0\n",
        "es_patience = 50\n",
        "\n",
        "assert (train_size + test_size + validation_size) == 1\n",
        "\n",
        "base_results_path = '/content/gdrive/MyDrive/results'"
      ]
    },
    {
      "cell_type": "markdown",
      "metadata": {
        "id": "GqZIZJrFAqDf"
      },
      "source": [
        "## Preprocessing\n"
      ]
    },
    {
      "cell_type": "code",
      "execution_count": 4,
      "metadata": {
        "id": "-OS0sjW_Bhn5"
      },
      "outputs": [],
      "source": [
        "import pandas as pd\n",
        "import numpy as np\n",
        "from scipy.signal import savgol_filter\n",
        "\n",
        "\n",
        "def process(df, interval, modifier):\n",
        "    window_size = 14\n",
        "\n",
        "    # Set index\n",
        "    df['time'] = pd.to_datetime(df['time'])\n",
        "    df.set_index('time', inplace=True)\n",
        "\n",
        "    # Resample the DataFrame to specified period and use the last value within each\n",
        "    df = df[['open', 'high', 'low', 'close', 'Volume ETH']].resample(interval).last()\n",
        "\n",
        "    # Apply the Savitzky-Golay filter to all columns\n",
        "    df = df.apply(lambda col: savgol_filter(col, 10, 2))\n",
        "    # df['HA_close'] = (df['open'] + df['high'] + df['low'] + df['close']) / 4\n",
        "    # df['HA_open'] = ((df['open'].shift(1) + df['close'].shift(1)) / 2).fillna(df['open'][0])\n",
        "    # df['HA_high'] = df[['high', 'HA_open', 'HA_close']].max(axis=1)\n",
        "    # df['HA_low'] = df[['low', 'HA_open', 'HA_close']].min(axis=1)\n",
        "\n",
        "    # df['close'] =  df['HA_close']\n",
        "    # df['open'] =  df['HA_open']\n",
        "    # df['high'] =  df['HA_high']\n",
        "    # df['low'] =  df['HA_low']\n",
        "    # Reset index\n",
        "    df = df.reset_index(drop=False)\n",
        "\n",
        "    # Calculate the difference between each value and its previous value\n",
        "    df['Change'] = df['close'].diff()\n",
        "\n",
        "    if modifier == 0:\n",
        "        # Add a column for the trend label (1: uptrend, 0: downtrend)\n",
        "        df['Trend'] = df['Change'].apply(lambda x: 1 if x > 0 else 0)\n",
        "\n",
        "        # Create a new column B with the logical negation of column A\n",
        "        df['-Trend'] = (~df['Trend'].astype(bool)).astype(int)\n",
        "\n",
        "    else:\n",
        "        last_index = df.shape[0] - 1\n",
        "\n",
        "        df['sign'] = df['close'].diff().replace(0, method='ffill').fillna(0) * df['close'].diff(-1).replace(0, method='ffill').fillna(0)\n",
        "        df['ext_index'] = (pd.Series(range(df.shape[0])) * (df['sign'] > 0).astype(int)).replace(0, method='bfill')\n",
        "        df['ext_index'] = df['ext_index'].replace(0, last_index).shift(-1, fill_value=last_index)\n",
        "        df['ext_values'] = df['close'].loc[df['ext_index']].reset_index(drop=True)\n",
        "        df['ext_diff'] = df['close'] - df['ext_values']\n",
        "\n",
        "        df['null'] = (df['close'] + df['ext_values']) * modifier > df['ext_diff'].abs()\n",
        "        df['-null'] = (~df['null'].astype(bool)).astype(int)\n",
        "        df['null'] = df['null'].astype(int)\n",
        "\n",
        "        df['short'] = df['ext_diff'].apply(lambda x: 1 if x > 0 else 0)\n",
        "        df['long'] = (~df['short'].astype(bool)).astype(int)\n",
        "        df['short'] *= df['-null']\n",
        "        df['long'] *= df['-null']\n",
        "\n",
        "    # Calculate the 14-period Rate of Change (ROC) using Close prices\n",
        "    df['ROC'] = df['close'].pct_change(14) * 100\n",
        "\n",
        "    # Calculate the 11-period Rate of Change (ROC) using the 14-period ROC\n",
        "    df['ROC_Signal'] = df['close'].pct_change(11) * 100\n",
        "\n",
        "    # Calculate the 10-period Weighted Moving Average (WMA) of the 11-period ROC\n",
        "    df['WMA'] = df['ROC_Signal'].rolling(window=10).apply(lambda x: np.dot(x, np.arange(1, 11)) / 55, raw=True)\n",
        "    df['Coppock'] = df['WMA'].rolling(window=14).apply(lambda x: np.dot(x, np.arange(1, 15)) / 105, raw=True)\n",
        "\n",
        "    # Calculate gains (positive changes) and losses (negative changes), and the average gain and average loss over a specified period\n",
        "    df['AvgGain'] = df['Change'].apply(lambda x: x if x > 0 else 0).rolling(window=window_size).mean()\n",
        "    df['AvgLoss'] = df['Change'].apply(lambda x: abs(x) if x < 0 else 0).rolling(window=window_size).mean()\n",
        "\n",
        "    # Calculate the relative strength (RS)\n",
        "    df['RS'] = df['AvgGain'] / df['AvgLoss']\n",
        "\n",
        "    # Calculate the RSI\n",
        "    df['RSI'] = 100 - (100 / (1 + df['RS']))\n",
        "\n",
        "    # Normalize the RSI values to a range between 0 and 1\n",
        "    min_rsi = df['RSI'].rolling(window=window_size).min()\n",
        "    max_rsi = df['RSI'].rolling(window=window_size).max()\n",
        "    df['StochRSI'] = (df['RSI'] - min_rsi) / (max_rsi - min_rsi)\n",
        "\n",
        "    # Calculate the 10-period Rate of Change (ROC) using Close prices\n",
        "    df['ROC'] = df['close'].pct_change(10) * 100\n",
        "\n",
        "    # Define the parameters\n",
        "    short_ema_period = 12\n",
        "    long_ema_period = 26\n",
        "    signal_ema_period = 9\n",
        "\n",
        "    # Calculate the short-term EMA\n",
        "    df['EMA_short'] = df['close'].ewm(span=short_ema_period, adjust=False).mean()\n",
        "\n",
        "    # Calculate the long-term EMA\n",
        "    df['EMA_long'] = df['close'].ewm(span=long_ema_period, adjust=False).mean()\n",
        "\n",
        "    # Calculate the MACD Line\n",
        "    df['MACD_Line'] = df['EMA_short'] - df['EMA_long']\n",
        "\n",
        "    # Calculate the Signal Line\n",
        "    df['Signal_Line'] = df['MACD_Line'].ewm(span=signal_ema_period, adjust=False).mean()\n",
        "\n",
        "    # Calculate the MACD Histogram\n",
        "    df['MACD'] = df['MACD_Line'] - df['Signal_Line']\n",
        "\n",
        "\n",
        "    df['ROC'] = df['close'].pct_change(9) * 100\n",
        "\n",
        "\n",
        "    min_rsi = df['RSI'].rolling(window=window_size).min()\n",
        "    max_rsi = df['RSI'].rolling(window=window_size).max()\n",
        "    df['StochRSI'] = (df['RSI'] - min_rsi) / (max_rsi - min_rsi)\n",
        "\n",
        "    # Define the number of periods for the Aroon Indicator\n",
        "    period = 25\n",
        "\n",
        "    # Calculate the number of periods since the highest high\n",
        "    df['Periods_Since_Highest'] = df['high'].rolling(window=period).apply(lambda x: period - x.argmax(), raw=True).shift(1).fillna(method='bfill')\n",
        "\n",
        "    # Calculate the number of periods since the lowest low\n",
        "    df['Periods_Since_Lowest'] = df['low'].rolling(window=period).apply(lambda x: period - x.argmin(), raw=True).shift(1).fillna(method='bfill')\n",
        "\n",
        "    # Calculate the Aroon Up and Aroon Down values\n",
        "    df['Aroon_Up'] = (period - df['Periods_Since_Highest']) / period * 100\n",
        "    df['Aroon_Down'] = (period - df['Periods_Since_Lowest']) / period * 100\n",
        "\n",
        "    # Calculate the Aroon Oscillator\n",
        "    df['Aroon_Oscillator'] = df['Aroon_Up'] - df['Aroon_Down']\n",
        "\n",
        "    # Calculate the sign of the price change\n",
        "    price_sign = pd.Series(0, index=df.index)\n",
        "    price_sign[df['Change'] > 0] = 1\n",
        "    price_sign[df['Change'] < 0] = -1\n",
        "\n",
        "    # Calculate the OBV using cumulative sum based on the price sign and volume\n",
        "    df['OBV'] = (price_sign * df['Volume ETH']).cumsum()\n",
        "\n",
        "    # Replace NaN values with zero\n",
        "    df = df.fillna(0)\n",
        "\n",
        "    # Set index again\n",
        "    df.set_index('time', inplace=True)\n",
        "\n",
        "    return df\n",
        "\n",
        "\n",
        "def get_file(df, *args):\n",
        "    data = df[args]\n",
        "    data['label'] = df.apply(lambda row: 'null' if row['null'] else 'short' if row['short'] else 'long' if row['long'] else 'error', axis=1)\n",
        "    data = data.reset_index()\n",
        "    data['time'] = data['time'].apply(lambda x: x.strftime('%d/%m/%Y %H:%M'))\n",
        "    data.to_csv('out.csv')\n",
        "\n",
        "\n",
        "def normalize(df):\n",
        "    # Normalize columns between -1 and 1\n",
        "    INDICATORS = [ 'RSI', 'ROC', 'MACD' ]\n",
        "    for i in INDICATORS:\n",
        "        df[i] = (df[i] - df[i].min()) / (df[i].max() - df[i].min()) * 2 - 1\n",
        "    return df\n"
      ]
    },
    {
      "cell_type": "code",
      "execution_count": 5,
      "metadata": {
        "id": "UoYd3FcKAyxL"
      },
      "outputs": [],
      "source": [
        "\n",
        "data = pd.read_csv(filename)\n",
        "\n",
        "\"\"\"## Preprocessing\"\"\"\n",
        "\n",
        "data = process(data, interval, modifier)\n",
        "data = normalize(data)\n",
        "\n",
        "\"\"\"## Extracting features and labels\"\"\"\n",
        "\n",
        "if modifier == 0:\n",
        "    data = data[['RSI',\n",
        "                 'MACD',\n",
        "                 'ROC',\n",
        "                 'Aroon_Up',\n",
        "                 'Aroon_Down',\n",
        "                 'Aroon_Oscillator',\n",
        "                 'StochRSI',\n",
        "                 'Coppock',\n",
        "                 'Trend',\n",
        "                 '-Trend']]\n",
        "\n"
      ]
    },
    {
      "cell_type": "markdown",
      "metadata": {
        "id": "ksP0tva8CK5S"
      },
      "source": [
        "## Creating dataset"
      ]
    },
    {
      "cell_type": "code",
      "execution_count": 6,
      "metadata": {
        "id": "Vkw-L1D8CPG5"
      },
      "outputs": [],
      "source": [
        "num_samples = len(data) - window_size + 1\n",
        "dataset = tf.data.Dataset.from_tensor_slices(data)\n",
        "dataset = dataset.window(window_size + 1, shift=1, drop_remainder=True)\n",
        "dataset = dataset.flat_map(lambda window: window.batch(window_size + 1))\n",
        "# window[from 1 to windowsize -1, all columns except for the last two] window[only the last one, last two columns]\n",
        "dataset = dataset.map(lambda window: (window[:-1, :-nr_of_labels], tf.squeeze(window[-1:, -nr_of_labels:])))\n",
        "\n",
        "\n",
        "\"\"\"## Split the data\"\"\"\n",
        "\n",
        "# Splitting into training and validation sets\n",
        "train_size = int(train_size * num_samples)\n",
        "validation_size = int(validation_size * num_samples)\n",
        "test_size = int(test_size * num_samples)\n",
        "\n",
        "train_dataset = dataset.take(train_size)\n",
        "val_dataset = dataset.skip(train_size).take(validation_size)\n",
        "test_dataset = dataset.skip(train_size).skip(validation_size)\n",
        "\n",
        "# Grouping windows into batches\n",
        "train_dataset = train_dataset.batch(batch_size, drop_remainder=True)\n",
        "val_dataset = val_dataset.batch(batch_size, drop_remainder=True)\n",
        "test_dataset = test_dataset.batch(batch_size, drop_remainder=True)"
      ]
    },
    {
      "cell_type": "code",
      "source": [
        "class MultiScaleResidualBlock(tf.keras.layers.Layer):\n",
        "    def __init__(self, window_size, filter_size, l2_reg, external_filter_size):\n",
        "        super(MultiScaleResidualBlock, self).__init__()\n",
        "\n",
        "        # Define filter sizes\n",
        "        # NATIVELY IN THE PAPER THERE WAS filter_size\": 16, external_filter_size\": 32\n",
        "\n",
        "        # Define the layers in the residual block\n",
        "        self.conv1 = tf.keras.layers.Conv1D(filters=filter_size, kernel_size=1, activation='relu', padding='same', kernel_regularizer=tf.keras.regularizers.l2(l2_reg))\n",
        "        self.conv2 = tf.keras.layers.Conv1D(filters=filter_size, kernel_size=2, activation='relu', padding='same', kernel_regularizer=tf.keras.regularizers.l2(l2_reg))\n",
        "        self.conv3 = tf.keras.layers.Conv1D(filters=filter_size, kernel_size=3, activation='relu', padding='same', kernel_regularizer=tf.keras.regularizers.l2(l2_reg))\n",
        "        self.identity = tf.keras.layers.Conv1D(filters=filter_size, kernel_size=1, activation='linear', padding='same')\n",
        "        self.concat = tf.keras.layers.Concatenate(axis=-1)\n",
        "        self.expand_dims = tf.keras.layers.Lambda(lambda x: tf.expand_dims(x, axis=-1))  # check different axis\n",
        "        self.conv2d = tf.keras.layers.Conv2D(filters=external_filter_size, kernel_size=(1, 1), activation='relu', padding='same', kernel_regularizer=tf.keras.regularizers.l2(l2_reg))\n",
        "        self.reshape = tf.keras.layers.Reshape(target_shape=(window_size, 4 * filter_size * external_filter_size)\n",
        "                                               )  # Maybe 1D convolution. Then we dont need to reshape it at all\n",
        "\n",
        "    def call(self, inputs):\n",
        "        conv1 = self.conv1(inputs)\n",
        "        conv2 = self.conv2(inputs)\n",
        "        conv3 = self.conv3(inputs)\n",
        "        identity = self.identity(inputs)\n",
        "        concatenated = self.concat([conv1, conv2, conv3, identity])\n",
        "        reshaped_tensor = self.expand_dims(concatenated)\n",
        "        conv_2d = self.conv2d(reshaped_tensor)\n",
        "        reshaped_output = self.reshape(conv_2d)\n",
        "\n",
        "        return reshaped_output"
      ],
      "metadata": {
        "id": "s0QoOCnd-WlE"
      },
      "execution_count": 7,
      "outputs": []
    },
    {
      "cell_type": "markdown",
      "metadata": {
        "id": "aS9XuVjsCZRf"
      },
      "source": [
        "## Model\n"
      ]
    },
    {
      "cell_type": "code",
      "execution_count": 8,
      "metadata": {
        "id": "s9ShB55oCsLO"
      },
      "outputs": [],
      "source": [
        "def create_model(window_size, num_features, l2_reg, nr_of_labels):\n",
        "    model = tf.keras.Sequential()\n",
        "    model.add(tf.keras.layers.InputLayer(batch_input_shape=(32,window_size, num_features)))\n",
        "\n",
        "    model.add(tf.keras.layers.Conv1D(filters=16, kernel_size=1, activation='relu', kernel_regularizer=tf.keras.regularizers.l2(0.01)))\n",
        "    model.add(MultiScaleResidualBlock(window_size, 16, l2_reg, 32))\n",
        "    # Add LSTM layer\n",
        "    model.add(tf.keras.layers.Bidirectional(tf.keras.layers.GRU(units=25, return_sequences=True, stateful= True, dropout=0.1)))\n",
        "    model.add(tf.keras.layers.Bidirectional(tf.keras.layers.GRU(units=20, return_sequences=False, stateful= True, dropout=0.1)))\n",
        "\n",
        "    # Add fully connected layer\n",
        "    model.add(Dense(units=nr_of_labels, activation='sigmoid'))\n",
        "\n",
        "    return model\n"
      ]
    },
    {
      "cell_type": "code",
      "execution_count": 9,
      "metadata": {
        "id": "p2welDZhDTea"
      },
      "outputs": [],
      "source": [
        "model = create_model(window_size, num_features,  l2_reg, nr_of_labels)\n",
        "\n",
        "optimizer = tf.keras.optimizers.Adam(\n",
        "    learning_rate=initial_learning_rate\n",
        ")\n",
        "\n",
        "if modifier == 0:\n",
        "    loss = tf.keras.losses.BinaryCrossentropy()\n",
        "else:\n",
        "    loss = tf.keras.losses.CategoricalCrossentropy()\n",
        "\n",
        "model.compile(optimizer=optimizer, loss=loss, metrics=['accuracy'], run_eagerly=True)"
      ]
    },
    {
      "cell_type": "markdown",
      "metadata": {
        "id": "0WUEwub6DVv2"
      },
      "source": [
        "## Logging Saving and Plotting\n"
      ]
    },
    {
      "cell_type": "code",
      "execution_count": 10,
      "metadata": {
        "id": "dPb_zU2fDcqt",
        "colab": {
          "base_uri": "https://localhost:8080/"
        },
        "outputId": "cff89e33-2a1a-4950-908e-9c2abe70a744"
      },
      "outputs": [
        {
          "output_type": "stream",
          "name": "stdout",
          "text": [
            "Model: \"sequential\"\n",
            "_________________________________________________________________\n",
            " Layer (type)                Output Shape              Param #   \n",
            "=================================================================\n",
            " conv1d (Conv1D)             (32, 72, 16)              144       \n",
            "                                                                 \n",
            " multi_scale_residual_block  (32, 72, 2048)            1920      \n",
            "  (MultiScaleResidualBlock)                                      \n",
            "                                                                 \n",
            " bidirectional (Bidirection  (32, 72, 50)              311250    \n",
            " al)                                                             \n",
            "                                                                 \n",
            " bidirectional_1 (Bidirecti  (32, 40)                  8640      \n",
            " onal)                                                           \n",
            "                                                                 \n",
            " dense (Dense)               (32, 2)                   82        \n",
            "                                                                 \n",
            "=================================================================\n",
            "Total params: 322036 (1.23 MB)\n",
            "Trainable params: 322036 (1.23 MB)\n",
            "Non-trainable params: 0 (0.00 Byte)\n",
            "_________________________________________________________________\n"
          ]
        }
      ],
      "source": [
        "run_path = os.path.join(base_results_path, timestamp)\n",
        "os.makedirs(run_path)\n",
        "\n",
        "# Model summary\n",
        "summary_file = os.path.join(run_path, 'model_summary.txt')\n",
        "\n",
        "buffer = io.StringIO()\n",
        "with redirect_stdout(buffer):\n",
        "    model.summary()\n",
        "summary_string = buffer.getvalue()\n",
        "\n",
        "with open(summary_file, 'w') as file:\n",
        "    model_summary = model.summary()\n",
        "\n",
        "    file.write(summary_string)\n",
        "\n",
        "# Checkpoints\n",
        "checkpoint_path = os.path.join(run_path, 'checkpoints')\n",
        "os.makedirs(checkpoint_path)\n",
        "checkpoint_file_path = os.path.join(checkpoint_path, 'checkpoint.h5')\n",
        "\n",
        "# Logs\n",
        "logs_path = os.path.join(run_path, \"logs\")\n",
        "os.makedirs(logs_path)\n",
        "logs_file_path = os.path.join(logs_path, \"logs.log\")\n",
        "\n",
        "logging.basicConfig(filename=logs_file_path, level=logging.DEBUG)\n",
        "logging.getLogger().addHandler(logging.FileHandler(logs_file_path))\n",
        "\n",
        "# Training progress\n",
        "progress_path = os.path.join(run_path, \"progress\")\n",
        "os.makedirs(progress_path)\n",
        "progress_file_path = os.path.join(progress_path, \"progress.log\")\n",
        "\n",
        "# Plotting\n",
        "plot_path = os.path.join(run_path, \"plots\")\n",
        "os.makedirs(plot_path)\n",
        "\n",
        "# Parameters\n",
        "params_path = os.path.join(run_path, \"params\")\n",
        "os.makedirs(params_path)\n",
        "params_path_file = os.path.join(params_path, \"params.json\")\n",
        "#command = f'cp {model_params_file} {params_path_file}'\n",
        "#os.popen(command)\n"
      ]
    },
    {
      "cell_type": "code",
      "source": [
        "def save_loss_accuracy_plots(history, save_path):\n",
        "    # Create a single figure with two subplots\n",
        "    fig, (ax1, ax2) = plt.subplots(2, 1, figsize=(8, 10))\n",
        "\n",
        "    # Plotting train_loss and val_loss\n",
        "    ax1.plot(history.history['loss'], label='Train Loss')\n",
        "    ax1.plot(history.history['val_loss'], label='Val Loss')\n",
        "    ax1.set_title('Training and Validation Loss')\n",
        "    ax1.set_xlabel('Epoch')\n",
        "    ax1.set_ylabel('Loss')\n",
        "    ax1.legend()\n",
        "\n",
        "    # Plotting train_accuracy and val_accuracy\n",
        "    ax2.plot(history.history['accuracy'], label='Train Accuracy')\n",
        "    ax2.plot(history.history['val_accuracy'], label='Val Accuracy')\n",
        "    ax2.set_title('Training and Validation Accuracy')\n",
        "    ax2.set_xlabel('Epoch')\n",
        "    ax2.set_ylabel('Accuracy')\n",
        "    ax2.legend()\n",
        "\n",
        "    # Adjust layout and spacing between subplots\n",
        "    plt.tight_layout()\n",
        "\n",
        "    # Save the individual plots as images\n",
        "    loss_plot_path = os.path.join(save_path, 'loss_plot.png')\n",
        "    accuracy_plot_path = os.path.join(save_path, 'accuracy_plot.png')\n",
        "    plt.savefig(loss_plot_path)\n",
        "    plt.savefig(accuracy_plot_path)\n",
        "    plt.close()\n",
        "\n",
        "    print(\"Plots saved successfully!\")\n",
        "\n",
        "    # Return the figure object containing both subplots\n",
        "    return fig\n"
      ],
      "metadata": {
        "id": "06cwID1MpduW"
      },
      "execution_count": 11,
      "outputs": []
    },
    {
      "cell_type": "markdown",
      "metadata": {
        "id": "Ufg09WQVDerr"
      },
      "source": [
        "## Callbacks\n"
      ]
    },
    {
      "cell_type": "code",
      "execution_count": 12,
      "metadata": {
        "id": "HlbpInjODhmS"
      },
      "outputs": [],
      "source": [
        "# Define the learning rate schedule\n",
        "lr_schedule = tf.keras.optimizers.schedules.PiecewiseConstantDecay(\n",
        "    boundaries=[20, 40, 60, 80],\n",
        "    values=[initial_learning_rate, initial_learning_rate * 0.5, initial_learning_rate * 0.5 * 0.5,\n",
        "            initial_learning_rate * 0.5 * 0.5 * 0.5, initial_learning_rate * 0.5 * 0.5 * 0.5 * 0.5]\n",
        ")\n",
        "\n",
        "# Set the early stopping criteria\n",
        "early_stopping = EarlyStopping(monitor='val_loss', patience=es_patience, restore_best_weights=True)\n",
        "\n",
        "# Define a custom callback to clear GPU memory\n",
        "\n",
        "\n",
        "class ClearMemoryCallback(tf.keras.callbacks.Callback):\n",
        "    def on_epoch_end(self, epoch, logs=None):\n",
        "        tf.keras.backend.clear_session()\n",
        "\n",
        "\n",
        "# Create an instance of the custom callback\n",
        "clear_memory_callback = ClearMemoryCallback()\n",
        "\n",
        "\n",
        "\n",
        "# Create the CSVLogger callback to save training logs\n",
        "csv_logger_callback = CSVLogger(progress_file_path)"
      ]
    },
    {
      "cell_type": "markdown",
      "metadata": {
        "id": "UppCjVYqDlJw"
      },
      "source": [
        "## Learning process"
      ]
    },
    {
      "cell_type": "code",
      "execution_count": 13,
      "metadata": {
        "id": "0ga2VBsGDoK7",
        "colab": {
          "base_uri": "https://localhost:8080/",
          "height": 481
        },
        "outputId": "7dae2a9d-6b2c-454a-d4ab-16904499ee8c"
      },
      "outputs": [
        {
          "output_type": "stream",
          "name": "stdout",
          "text": [
            "[PhysicalDevice(name='/physical_device:GPU:0', device_type='GPU')]\n",
            "Epoch 1/100\n"
          ]
        },
        {
          "output_type": "stream",
          "name": "stderr",
          "text": [
            "WARNING:tensorflow:5 out of the last 5 calls to <function _BaseOptimizer._update_step_xla at 0x78dfa4490040> triggered tf.function retracing. Tracing is expensive and the excessive number of tracings could be due to (1) creating @tf.function repeatedly in a loop, (2) passing tensors with different shapes, (3) passing Python objects instead of tensors. For (1), please define your @tf.function outside of the loop. For (2), @tf.function has reduce_retracing=True option that can avoid unnecessary retracing. For (3), please refer to https://www.tensorflow.org/guide/function#controlling_retracing and https://www.tensorflow.org/api_docs/python/tf/function for  more details.\n",
            "WARNING:tensorflow:6 out of the last 6 calls to <function _BaseOptimizer._update_step_xla at 0x78dfa4490040> triggered tf.function retracing. Tracing is expensive and the excessive number of tracings could be due to (1) creating @tf.function repeatedly in a loop, (2) passing tensors with different shapes, (3) passing Python objects instead of tensors. For (1), please define your @tf.function outside of the loop. For (2), @tf.function has reduce_retracing=True option that can avoid unnecessary retracing. For (3), please refer to https://www.tensorflow.org/guide/function#controlling_retracing and https://www.tensorflow.org/api_docs/python/tf/function for  more details.\n"
          ]
        },
        {
          "output_type": "stream",
          "name": "stdout",
          "text": [
            "   1928/Unknown - 259s 125ms/step - loss: 0.9740 - accuracy: 0.5124"
          ]
        },
        {
          "output_type": "error",
          "ename": "KeyboardInterrupt",
          "evalue": "ignored",
          "traceback": [
            "\u001b[0;31m---------------------------------------------------------------------------\u001b[0m",
            "\u001b[0;31mKeyboardInterrupt\u001b[0m                         Traceback (most recent call last)",
            "\u001b[0;32m<ipython-input-13-7ec969efcda8>\u001b[0m in \u001b[0;36m<cell line: 11>\u001b[0;34m()\u001b[0m\n\u001b[1;32m      9\u001b[0m \u001b[0;34m\u001b[0m\u001b[0m\n\u001b[1;32m     10\u001b[0m \u001b[0;31m# Train the model with learning rate schedule and early stopping\u001b[0m\u001b[0;34m\u001b[0m\u001b[0;34m\u001b[0m\u001b[0m\n\u001b[0;32m---> 11\u001b[0;31m history = model.fit(train_dataset, validation_data=val_dataset, epochs=epochs, callbacks=[tf.keras.callbacks.LearningRateScheduler(lr_schedule),\n\u001b[0m\u001b[1;32m     12\u001b[0m     clear_memory_callback, early_stopping, csv_logger_callback])\n",
            "\u001b[0;32m/usr/local/lib/python3.10/dist-packages/keras/src/utils/traceback_utils.py\u001b[0m in \u001b[0;36merror_handler\u001b[0;34m(*args, **kwargs)\u001b[0m\n\u001b[1;32m     63\u001b[0m         \u001b[0mfiltered_tb\u001b[0m \u001b[0;34m=\u001b[0m \u001b[0;32mNone\u001b[0m\u001b[0;34m\u001b[0m\u001b[0;34m\u001b[0m\u001b[0m\n\u001b[1;32m     64\u001b[0m         \u001b[0;32mtry\u001b[0m\u001b[0;34m:\u001b[0m\u001b[0;34m\u001b[0m\u001b[0;34m\u001b[0m\u001b[0m\n\u001b[0;32m---> 65\u001b[0;31m             \u001b[0;32mreturn\u001b[0m \u001b[0mfn\u001b[0m\u001b[0;34m(\u001b[0m\u001b[0;34m*\u001b[0m\u001b[0margs\u001b[0m\u001b[0;34m,\u001b[0m \u001b[0;34m**\u001b[0m\u001b[0mkwargs\u001b[0m\u001b[0;34m)\u001b[0m\u001b[0;34m\u001b[0m\u001b[0;34m\u001b[0m\u001b[0m\n\u001b[0m\u001b[1;32m     66\u001b[0m         \u001b[0;32mexcept\u001b[0m \u001b[0mException\u001b[0m \u001b[0;32mas\u001b[0m \u001b[0me\u001b[0m\u001b[0;34m:\u001b[0m\u001b[0;34m\u001b[0m\u001b[0;34m\u001b[0m\u001b[0m\n\u001b[1;32m     67\u001b[0m             \u001b[0mfiltered_tb\u001b[0m \u001b[0;34m=\u001b[0m \u001b[0m_process_traceback_frames\u001b[0m\u001b[0;34m(\u001b[0m\u001b[0me\u001b[0m\u001b[0;34m.\u001b[0m\u001b[0m__traceback__\u001b[0m\u001b[0;34m)\u001b[0m\u001b[0;34m\u001b[0m\u001b[0;34m\u001b[0m\u001b[0m\n",
            "\u001b[0;32m/usr/local/lib/python3.10/dist-packages/keras/src/engine/training.py\u001b[0m in \u001b[0;36mfit\u001b[0;34m(self, x, y, batch_size, epochs, verbose, callbacks, validation_split, validation_data, shuffle, class_weight, sample_weight, initial_epoch, steps_per_epoch, validation_steps, validation_batch_size, validation_freq, max_queue_size, workers, use_multiprocessing)\u001b[0m\n\u001b[1;32m   1740\u001b[0m                         ):\n\u001b[1;32m   1741\u001b[0m                             \u001b[0mcallbacks\u001b[0m\u001b[0;34m.\u001b[0m\u001b[0mon_train_batch_begin\u001b[0m\u001b[0;34m(\u001b[0m\u001b[0mstep\u001b[0m\u001b[0;34m)\u001b[0m\u001b[0;34m\u001b[0m\u001b[0;34m\u001b[0m\u001b[0m\n\u001b[0;32m-> 1742\u001b[0;31m                             \u001b[0mtmp_logs\u001b[0m \u001b[0;34m=\u001b[0m \u001b[0mself\u001b[0m\u001b[0;34m.\u001b[0m\u001b[0mtrain_function\u001b[0m\u001b[0;34m(\u001b[0m\u001b[0miterator\u001b[0m\u001b[0;34m)\u001b[0m\u001b[0;34m\u001b[0m\u001b[0;34m\u001b[0m\u001b[0m\n\u001b[0m\u001b[1;32m   1743\u001b[0m                             \u001b[0;32mif\u001b[0m \u001b[0mdata_handler\u001b[0m\u001b[0;34m.\u001b[0m\u001b[0mshould_sync\u001b[0m\u001b[0;34m:\u001b[0m\u001b[0;34m\u001b[0m\u001b[0;34m\u001b[0m\u001b[0m\n\u001b[1;32m   1744\u001b[0m                                 \u001b[0mcontext\u001b[0m\u001b[0;34m.\u001b[0m\u001b[0masync_wait\u001b[0m\u001b[0;34m(\u001b[0m\u001b[0;34m)\u001b[0m\u001b[0;34m\u001b[0m\u001b[0;34m\u001b[0m\u001b[0m\n",
            "\u001b[0;32m/usr/local/lib/python3.10/dist-packages/keras/src/engine/training.py\u001b[0m in \u001b[0;36mtrain_function\u001b[0;34m(iterator)\u001b[0m\n\u001b[1;32m   1336\u001b[0m             \u001b[0;32mdef\u001b[0m \u001b[0mtrain_function\u001b[0m\u001b[0;34m(\u001b[0m\u001b[0miterator\u001b[0m\u001b[0;34m)\u001b[0m\u001b[0;34m:\u001b[0m\u001b[0;34m\u001b[0m\u001b[0;34m\u001b[0m\u001b[0m\n\u001b[1;32m   1337\u001b[0m                 \u001b[0;34m\"\"\"Runs a training execution with a single step.\"\"\"\u001b[0m\u001b[0;34m\u001b[0m\u001b[0;34m\u001b[0m\u001b[0m\n\u001b[0;32m-> 1338\u001b[0;31m                 \u001b[0;32mreturn\u001b[0m \u001b[0mstep_function\u001b[0m\u001b[0;34m(\u001b[0m\u001b[0mself\u001b[0m\u001b[0;34m,\u001b[0m \u001b[0miterator\u001b[0m\u001b[0;34m)\u001b[0m\u001b[0;34m\u001b[0m\u001b[0;34m\u001b[0m\u001b[0m\n\u001b[0m\u001b[1;32m   1339\u001b[0m \u001b[0;34m\u001b[0m\u001b[0m\n\u001b[1;32m   1340\u001b[0m             \u001b[0;32mif\u001b[0m \u001b[0;32mnot\u001b[0m \u001b[0mself\u001b[0m\u001b[0;34m.\u001b[0m\u001b[0mrun_eagerly\u001b[0m\u001b[0;34m:\u001b[0m\u001b[0;34m\u001b[0m\u001b[0;34m\u001b[0m\u001b[0m\n",
            "\u001b[0;32m/usr/local/lib/python3.10/dist-packages/keras/src/engine/training.py\u001b[0m in \u001b[0;36mstep_function\u001b[0;34m(model, iterator)\u001b[0m\n\u001b[1;32m   1320\u001b[0m                 )\n\u001b[1;32m   1321\u001b[0m             \u001b[0mdata\u001b[0m \u001b[0;34m=\u001b[0m \u001b[0mnext\u001b[0m\u001b[0;34m(\u001b[0m\u001b[0miterator\u001b[0m\u001b[0;34m)\u001b[0m\u001b[0;34m\u001b[0m\u001b[0;34m\u001b[0m\u001b[0m\n\u001b[0;32m-> 1322\u001b[0;31m             \u001b[0moutputs\u001b[0m \u001b[0;34m=\u001b[0m \u001b[0mmodel\u001b[0m\u001b[0;34m.\u001b[0m\u001b[0mdistribute_strategy\u001b[0m\u001b[0;34m.\u001b[0m\u001b[0mrun\u001b[0m\u001b[0;34m(\u001b[0m\u001b[0mrun_step\u001b[0m\u001b[0;34m,\u001b[0m \u001b[0margs\u001b[0m\u001b[0;34m=\u001b[0m\u001b[0;34m(\u001b[0m\u001b[0mdata\u001b[0m\u001b[0;34m,\u001b[0m\u001b[0;34m)\u001b[0m\u001b[0;34m)\u001b[0m\u001b[0;34m\u001b[0m\u001b[0;34m\u001b[0m\u001b[0m\n\u001b[0m\u001b[1;32m   1323\u001b[0m             outputs = reduce_per_replica(\n\u001b[1;32m   1324\u001b[0m                 \u001b[0moutputs\u001b[0m\u001b[0;34m,\u001b[0m\u001b[0;34m\u001b[0m\u001b[0;34m\u001b[0m\u001b[0m\n",
            "\u001b[0;32m/usr/local/lib/python3.10/dist-packages/tensorflow/python/distribute/distribute_lib.py\u001b[0m in \u001b[0;36mrun\u001b[0;34m(***failed resolving arguments***)\u001b[0m\n\u001b[1;32m   1671\u001b[0m       fn = autograph.tf_convert(\n\u001b[1;32m   1672\u001b[0m           fn, autograph_ctx.control_status_ctx(), convert_by_default=False)\n\u001b[0;32m-> 1673\u001b[0;31m       \u001b[0;32mreturn\u001b[0m \u001b[0mself\u001b[0m\u001b[0;34m.\u001b[0m\u001b[0m_extended\u001b[0m\u001b[0;34m.\u001b[0m\u001b[0mcall_for_each_replica\u001b[0m\u001b[0;34m(\u001b[0m\u001b[0mfn\u001b[0m\u001b[0;34m,\u001b[0m \u001b[0margs\u001b[0m\u001b[0;34m=\u001b[0m\u001b[0margs\u001b[0m\u001b[0;34m,\u001b[0m \u001b[0mkwargs\u001b[0m\u001b[0;34m=\u001b[0m\u001b[0mkwargs\u001b[0m\u001b[0;34m)\u001b[0m\u001b[0;34m\u001b[0m\u001b[0;34m\u001b[0m\u001b[0m\n\u001b[0m\u001b[1;32m   1674\u001b[0m \u001b[0;34m\u001b[0m\u001b[0m\n\u001b[1;32m   1675\u001b[0m   \u001b[0;32mdef\u001b[0m \u001b[0mreduce\u001b[0m\u001b[0;34m(\u001b[0m\u001b[0mself\u001b[0m\u001b[0;34m,\u001b[0m \u001b[0mreduce_op\u001b[0m\u001b[0;34m,\u001b[0m \u001b[0mvalue\u001b[0m\u001b[0;34m,\u001b[0m \u001b[0maxis\u001b[0m\u001b[0;34m)\u001b[0m\u001b[0;34m:\u001b[0m\u001b[0;34m\u001b[0m\u001b[0;34m\u001b[0m\u001b[0m\n",
            "\u001b[0;32m/usr/local/lib/python3.10/dist-packages/tensorflow/python/distribute/distribute_lib.py\u001b[0m in \u001b[0;36mcall_for_each_replica\u001b[0;34m(self, fn, args, kwargs)\u001b[0m\n\u001b[1;32m   3248\u001b[0m       \u001b[0mkwargs\u001b[0m \u001b[0;34m=\u001b[0m \u001b[0;34m{\u001b[0m\u001b[0;34m}\u001b[0m\u001b[0;34m\u001b[0m\u001b[0;34m\u001b[0m\u001b[0m\n\u001b[1;32m   3249\u001b[0m     \u001b[0;32mwith\u001b[0m \u001b[0mself\u001b[0m\u001b[0;34m.\u001b[0m\u001b[0m_container_strategy\u001b[0m\u001b[0;34m(\u001b[0m\u001b[0;34m)\u001b[0m\u001b[0;34m.\u001b[0m\u001b[0mscope\u001b[0m\u001b[0;34m(\u001b[0m\u001b[0;34m)\u001b[0m\u001b[0;34m:\u001b[0m\u001b[0;34m\u001b[0m\u001b[0;34m\u001b[0m\u001b[0m\n\u001b[0;32m-> 3250\u001b[0;31m       \u001b[0;32mreturn\u001b[0m \u001b[0mself\u001b[0m\u001b[0;34m.\u001b[0m\u001b[0m_call_for_each_replica\u001b[0m\u001b[0;34m(\u001b[0m\u001b[0mfn\u001b[0m\u001b[0;34m,\u001b[0m \u001b[0margs\u001b[0m\u001b[0;34m,\u001b[0m \u001b[0mkwargs\u001b[0m\u001b[0;34m)\u001b[0m\u001b[0;34m\u001b[0m\u001b[0;34m\u001b[0m\u001b[0m\n\u001b[0m\u001b[1;32m   3251\u001b[0m \u001b[0;34m\u001b[0m\u001b[0m\n\u001b[1;32m   3252\u001b[0m   \u001b[0;32mdef\u001b[0m \u001b[0m_call_for_each_replica\u001b[0m\u001b[0;34m(\u001b[0m\u001b[0mself\u001b[0m\u001b[0;34m,\u001b[0m \u001b[0mfn\u001b[0m\u001b[0;34m,\u001b[0m \u001b[0margs\u001b[0m\u001b[0;34m,\u001b[0m \u001b[0mkwargs\u001b[0m\u001b[0;34m)\u001b[0m\u001b[0;34m:\u001b[0m\u001b[0;34m\u001b[0m\u001b[0;34m\u001b[0m\u001b[0m\n",
            "\u001b[0;32m/usr/local/lib/python3.10/dist-packages/tensorflow/python/distribute/distribute_lib.py\u001b[0m in \u001b[0;36m_call_for_each_replica\u001b[0;34m(self, fn, args, kwargs)\u001b[0m\n\u001b[1;32m   4046\u001b[0m   \u001b[0;32mdef\u001b[0m \u001b[0m_call_for_each_replica\u001b[0m\u001b[0;34m(\u001b[0m\u001b[0mself\u001b[0m\u001b[0;34m,\u001b[0m \u001b[0mfn\u001b[0m\u001b[0;34m,\u001b[0m \u001b[0margs\u001b[0m\u001b[0;34m,\u001b[0m \u001b[0mkwargs\u001b[0m\u001b[0;34m)\u001b[0m\u001b[0;34m:\u001b[0m\u001b[0;34m\u001b[0m\u001b[0;34m\u001b[0m\u001b[0m\n\u001b[1;32m   4047\u001b[0m     \u001b[0;32mwith\u001b[0m \u001b[0mReplicaContext\u001b[0m\u001b[0;34m(\u001b[0m\u001b[0mself\u001b[0m\u001b[0;34m.\u001b[0m\u001b[0m_container_strategy\u001b[0m\u001b[0;34m(\u001b[0m\u001b[0;34m)\u001b[0m\u001b[0;34m,\u001b[0m \u001b[0mreplica_id_in_sync_group\u001b[0m\u001b[0;34m=\u001b[0m\u001b[0;36m0\u001b[0m\u001b[0;34m)\u001b[0m\u001b[0;34m:\u001b[0m\u001b[0;34m\u001b[0m\u001b[0;34m\u001b[0m\u001b[0m\n\u001b[0;32m-> 4048\u001b[0;31m       \u001b[0;32mreturn\u001b[0m \u001b[0mfn\u001b[0m\u001b[0;34m(\u001b[0m\u001b[0;34m*\u001b[0m\u001b[0margs\u001b[0m\u001b[0;34m,\u001b[0m \u001b[0;34m**\u001b[0m\u001b[0mkwargs\u001b[0m\u001b[0;34m)\u001b[0m\u001b[0;34m\u001b[0m\u001b[0;34m\u001b[0m\u001b[0m\n\u001b[0m\u001b[1;32m   4049\u001b[0m \u001b[0;34m\u001b[0m\u001b[0m\n\u001b[1;32m   4050\u001b[0m   \u001b[0;32mdef\u001b[0m \u001b[0m_reduce_to\u001b[0m\u001b[0;34m(\u001b[0m\u001b[0mself\u001b[0m\u001b[0;34m,\u001b[0m \u001b[0mreduce_op\u001b[0m\u001b[0;34m,\u001b[0m \u001b[0mvalue\u001b[0m\u001b[0;34m,\u001b[0m \u001b[0mdestinations\u001b[0m\u001b[0;34m,\u001b[0m \u001b[0moptions\u001b[0m\u001b[0;34m)\u001b[0m\u001b[0;34m:\u001b[0m\u001b[0;34m\u001b[0m\u001b[0;34m\u001b[0m\u001b[0m\n",
            "\u001b[0;32m/usr/local/lib/python3.10/dist-packages/tensorflow/python/autograph/impl/api.py\u001b[0m in \u001b[0;36mwrapper\u001b[0;34m(*args, **kwargs)\u001b[0m\n\u001b[1;32m    594\u001b[0m   \u001b[0;32mdef\u001b[0m \u001b[0mwrapper\u001b[0m\u001b[0;34m(\u001b[0m\u001b[0;34m*\u001b[0m\u001b[0margs\u001b[0m\u001b[0;34m,\u001b[0m \u001b[0;34m**\u001b[0m\u001b[0mkwargs\u001b[0m\u001b[0;34m)\u001b[0m\u001b[0;34m:\u001b[0m\u001b[0;34m\u001b[0m\u001b[0;34m\u001b[0m\u001b[0m\n\u001b[1;32m    595\u001b[0m     \u001b[0;32mwith\u001b[0m \u001b[0mag_ctx\u001b[0m\u001b[0;34m.\u001b[0m\u001b[0mControlStatusCtx\u001b[0m\u001b[0;34m(\u001b[0m\u001b[0mstatus\u001b[0m\u001b[0;34m=\u001b[0m\u001b[0mag_ctx\u001b[0m\u001b[0;34m.\u001b[0m\u001b[0mStatus\u001b[0m\u001b[0;34m.\u001b[0m\u001b[0mUNSPECIFIED\u001b[0m\u001b[0;34m)\u001b[0m\u001b[0;34m:\u001b[0m\u001b[0;34m\u001b[0m\u001b[0;34m\u001b[0m\u001b[0m\n\u001b[0;32m--> 596\u001b[0;31m       \u001b[0;32mreturn\u001b[0m \u001b[0mfunc\u001b[0m\u001b[0;34m(\u001b[0m\u001b[0;34m*\u001b[0m\u001b[0margs\u001b[0m\u001b[0;34m,\u001b[0m \u001b[0;34m**\u001b[0m\u001b[0mkwargs\u001b[0m\u001b[0;34m)\u001b[0m\u001b[0;34m\u001b[0m\u001b[0;34m\u001b[0m\u001b[0m\n\u001b[0m\u001b[1;32m    597\u001b[0m \u001b[0;34m\u001b[0m\u001b[0m\n\u001b[1;32m    598\u001b[0m   \u001b[0;32mif\u001b[0m \u001b[0minspect\u001b[0m\u001b[0;34m.\u001b[0m\u001b[0misfunction\u001b[0m\u001b[0;34m(\u001b[0m\u001b[0mfunc\u001b[0m\u001b[0;34m)\u001b[0m \u001b[0;32mor\u001b[0m \u001b[0minspect\u001b[0m\u001b[0;34m.\u001b[0m\u001b[0mismethod\u001b[0m\u001b[0;34m(\u001b[0m\u001b[0mfunc\u001b[0m\u001b[0;34m)\u001b[0m\u001b[0;34m:\u001b[0m\u001b[0;34m\u001b[0m\u001b[0;34m\u001b[0m\u001b[0m\n",
            "\u001b[0;32m/usr/local/lib/python3.10/dist-packages/keras/src/engine/training.py\u001b[0m in \u001b[0;36mrun_step\u001b[0;34m(data)\u001b[0m\n\u001b[1;32m   1301\u001b[0m \u001b[0;34m\u001b[0m\u001b[0m\n\u001b[1;32m   1302\u001b[0m             \u001b[0;32mdef\u001b[0m \u001b[0mrun_step\u001b[0m\u001b[0;34m(\u001b[0m\u001b[0mdata\u001b[0m\u001b[0;34m)\u001b[0m\u001b[0;34m:\u001b[0m\u001b[0;34m\u001b[0m\u001b[0;34m\u001b[0m\u001b[0m\n\u001b[0;32m-> 1303\u001b[0;31m                 \u001b[0moutputs\u001b[0m \u001b[0;34m=\u001b[0m \u001b[0mmodel\u001b[0m\u001b[0;34m.\u001b[0m\u001b[0mtrain_step\u001b[0m\u001b[0;34m(\u001b[0m\u001b[0mdata\u001b[0m\u001b[0;34m)\u001b[0m\u001b[0;34m\u001b[0m\u001b[0;34m\u001b[0m\u001b[0m\n\u001b[0m\u001b[1;32m   1304\u001b[0m                 \u001b[0;31m# Ensure counter is updated only if `train_step` succeeds.\u001b[0m\u001b[0;34m\u001b[0m\u001b[0;34m\u001b[0m\u001b[0m\n\u001b[1;32m   1305\u001b[0m                 \u001b[0;32mwith\u001b[0m \u001b[0mtf\u001b[0m\u001b[0;34m.\u001b[0m\u001b[0mcontrol_dependencies\u001b[0m\u001b[0;34m(\u001b[0m\u001b[0m_minimum_control_deps\u001b[0m\u001b[0;34m(\u001b[0m\u001b[0moutputs\u001b[0m\u001b[0;34m)\u001b[0m\u001b[0;34m)\u001b[0m\u001b[0;34m:\u001b[0m\u001b[0;34m\u001b[0m\u001b[0;34m\u001b[0m\u001b[0m\n",
            "\u001b[0;32m/usr/local/lib/python3.10/dist-packages/keras/src/engine/training.py\u001b[0m in \u001b[0;36mtrain_step\u001b[0;34m(self, data)\u001b[0m\n\u001b[1;32m   1082\u001b[0m         \u001b[0mself\u001b[0m\u001b[0;34m.\u001b[0m\u001b[0m_validate_target_and_loss\u001b[0m\u001b[0;34m(\u001b[0m\u001b[0my\u001b[0m\u001b[0;34m,\u001b[0m \u001b[0mloss\u001b[0m\u001b[0;34m)\u001b[0m\u001b[0;34m\u001b[0m\u001b[0;34m\u001b[0m\u001b[0m\n\u001b[1;32m   1083\u001b[0m         \u001b[0;31m# Run backwards pass.\u001b[0m\u001b[0;34m\u001b[0m\u001b[0;34m\u001b[0m\u001b[0m\n\u001b[0;32m-> 1084\u001b[0;31m         \u001b[0mself\u001b[0m\u001b[0;34m.\u001b[0m\u001b[0moptimizer\u001b[0m\u001b[0;34m.\u001b[0m\u001b[0mminimize\u001b[0m\u001b[0;34m(\u001b[0m\u001b[0mloss\u001b[0m\u001b[0;34m,\u001b[0m \u001b[0mself\u001b[0m\u001b[0;34m.\u001b[0m\u001b[0mtrainable_variables\u001b[0m\u001b[0;34m,\u001b[0m \u001b[0mtape\u001b[0m\u001b[0;34m=\u001b[0m\u001b[0mtape\u001b[0m\u001b[0;34m)\u001b[0m\u001b[0;34m\u001b[0m\u001b[0;34m\u001b[0m\u001b[0m\n\u001b[0m\u001b[1;32m   1085\u001b[0m         \u001b[0;32mreturn\u001b[0m \u001b[0mself\u001b[0m\u001b[0;34m.\u001b[0m\u001b[0mcompute_metrics\u001b[0m\u001b[0;34m(\u001b[0m\u001b[0mx\u001b[0m\u001b[0;34m,\u001b[0m \u001b[0my\u001b[0m\u001b[0;34m,\u001b[0m \u001b[0my_pred\u001b[0m\u001b[0;34m,\u001b[0m \u001b[0msample_weight\u001b[0m\u001b[0;34m)\u001b[0m\u001b[0;34m\u001b[0m\u001b[0;34m\u001b[0m\u001b[0m\n\u001b[1;32m   1086\u001b[0m \u001b[0;34m\u001b[0m\u001b[0m\n",
            "\u001b[0;32m/usr/local/lib/python3.10/dist-packages/keras/src/optimizers/optimizer.py\u001b[0m in \u001b[0;36mminimize\u001b[0;34m(self, loss, var_list, tape)\u001b[0m\n\u001b[1;32m    541\u001b[0m           \u001b[0;32mNone\u001b[0m\u001b[0;34m\u001b[0m\u001b[0;34m\u001b[0m\u001b[0m\n\u001b[1;32m    542\u001b[0m         \"\"\"\n\u001b[0;32m--> 543\u001b[0;31m         \u001b[0mgrads_and_vars\u001b[0m \u001b[0;34m=\u001b[0m \u001b[0mself\u001b[0m\u001b[0;34m.\u001b[0m\u001b[0mcompute_gradients\u001b[0m\u001b[0;34m(\u001b[0m\u001b[0mloss\u001b[0m\u001b[0;34m,\u001b[0m \u001b[0mvar_list\u001b[0m\u001b[0;34m,\u001b[0m \u001b[0mtape\u001b[0m\u001b[0;34m)\u001b[0m\u001b[0;34m\u001b[0m\u001b[0;34m\u001b[0m\u001b[0m\n\u001b[0m\u001b[1;32m    544\u001b[0m         \u001b[0mself\u001b[0m\u001b[0;34m.\u001b[0m\u001b[0mapply_gradients\u001b[0m\u001b[0;34m(\u001b[0m\u001b[0mgrads_and_vars\u001b[0m\u001b[0;34m)\u001b[0m\u001b[0;34m\u001b[0m\u001b[0;34m\u001b[0m\u001b[0m\n\u001b[1;32m    545\u001b[0m \u001b[0;34m\u001b[0m\u001b[0m\n",
            "\u001b[0;32m/usr/local/lib/python3.10/dist-packages/keras/src/optimizers/optimizer.py\u001b[0m in \u001b[0;36mcompute_gradients\u001b[0;34m(self, loss, var_list, tape)\u001b[0m\n\u001b[1;32m    274\u001b[0m                     \u001b[0mvar_list\u001b[0m \u001b[0;34m=\u001b[0m \u001b[0mvar_list\u001b[0m\u001b[0;34m(\u001b[0m\u001b[0;34m)\u001b[0m\u001b[0;34m\u001b[0m\u001b[0;34m\u001b[0m\u001b[0m\n\u001b[1;32m    275\u001b[0m \u001b[0;34m\u001b[0m\u001b[0m\n\u001b[0;32m--> 276\u001b[0;31m         \u001b[0mgrads\u001b[0m \u001b[0;34m=\u001b[0m \u001b[0mtape\u001b[0m\u001b[0;34m.\u001b[0m\u001b[0mgradient\u001b[0m\u001b[0;34m(\u001b[0m\u001b[0mloss\u001b[0m\u001b[0;34m,\u001b[0m \u001b[0mvar_list\u001b[0m\u001b[0;34m)\u001b[0m\u001b[0;34m\u001b[0m\u001b[0;34m\u001b[0m\u001b[0m\n\u001b[0m\u001b[1;32m    277\u001b[0m         \u001b[0;32mreturn\u001b[0m \u001b[0mlist\u001b[0m\u001b[0;34m(\u001b[0m\u001b[0mzip\u001b[0m\u001b[0;34m(\u001b[0m\u001b[0mgrads\u001b[0m\u001b[0;34m,\u001b[0m \u001b[0mvar_list\u001b[0m\u001b[0;34m)\u001b[0m\u001b[0;34m)\u001b[0m\u001b[0;34m\u001b[0m\u001b[0;34m\u001b[0m\u001b[0m\n\u001b[1;32m    278\u001b[0m \u001b[0;34m\u001b[0m\u001b[0m\n",
            "\u001b[0;32m/usr/local/lib/python3.10/dist-packages/tensorflow/python/eager/backprop.py\u001b[0m in \u001b[0;36mgradient\u001b[0;34m(self, target, sources, output_gradients, unconnected_gradients)\u001b[0m\n\u001b[1;32m   1061\u001b[0m                           for x in output_gradients]\n\u001b[1;32m   1062\u001b[0m \u001b[0;34m\u001b[0m\u001b[0m\n\u001b[0;32m-> 1063\u001b[0;31m     flat_grad = imperative_grad.imperative_grad(\n\u001b[0m\u001b[1;32m   1064\u001b[0m         \u001b[0mself\u001b[0m\u001b[0;34m.\u001b[0m\u001b[0m_tape\u001b[0m\u001b[0;34m,\u001b[0m\u001b[0;34m\u001b[0m\u001b[0;34m\u001b[0m\u001b[0m\n\u001b[1;32m   1065\u001b[0m         \u001b[0mflat_targets\u001b[0m\u001b[0;34m,\u001b[0m\u001b[0;34m\u001b[0m\u001b[0;34m\u001b[0m\u001b[0m\n",
            "\u001b[0;32m/usr/local/lib/python3.10/dist-packages/tensorflow/python/eager/imperative_grad.py\u001b[0m in \u001b[0;36mimperative_grad\u001b[0;34m(tape, target, sources, output_gradients, sources_raw, unconnected_gradients)\u001b[0m\n\u001b[1;32m     65\u001b[0m         \"Unknown value for unconnected_gradients: %r\" % unconnected_gradients)\n\u001b[1;32m     66\u001b[0m \u001b[0;34m\u001b[0m\u001b[0m\n\u001b[0;32m---> 67\u001b[0;31m   return pywrap_tfe.TFE_Py_TapeGradient(\n\u001b[0m\u001b[1;32m     68\u001b[0m       \u001b[0mtape\u001b[0m\u001b[0;34m.\u001b[0m\u001b[0m_tape\u001b[0m\u001b[0;34m,\u001b[0m  \u001b[0;31m# pylint: disable=protected-access\u001b[0m\u001b[0;34m\u001b[0m\u001b[0;34m\u001b[0m\u001b[0m\n\u001b[1;32m     69\u001b[0m       \u001b[0mtarget\u001b[0m\u001b[0;34m,\u001b[0m\u001b[0;34m\u001b[0m\u001b[0;34m\u001b[0m\u001b[0m\n",
            "\u001b[0;32m/usr/local/lib/python3.10/dist-packages/tensorflow/python/eager/backprop.py\u001b[0m in \u001b[0;36m_gradient_function\u001b[0;34m(op_name, attr_tuple, num_inputs, inputs, outputs, out_grads, skip_input_indices, forward_pass_name_scope)\u001b[0m\n\u001b[1;32m    143\u001b[0m     \u001b[0;32mif\u001b[0m \u001b[0mforward_pass_name_scope\u001b[0m\u001b[0;34m:\u001b[0m\u001b[0;34m\u001b[0m\u001b[0;34m\u001b[0m\u001b[0m\n\u001b[1;32m    144\u001b[0m       \u001b[0mgradient_name_scope\u001b[0m \u001b[0;34m+=\u001b[0m \u001b[0mforward_pass_name_scope\u001b[0m \u001b[0;34m+\u001b[0m \u001b[0;34m\"/\"\u001b[0m\u001b[0;34m\u001b[0m\u001b[0;34m\u001b[0m\u001b[0m\n\u001b[0;32m--> 145\u001b[0;31m     \u001b[0;32mwith\u001b[0m \u001b[0mops\u001b[0m\u001b[0;34m.\u001b[0m\u001b[0mname_scope\u001b[0m\u001b[0;34m(\u001b[0m\u001b[0mgradient_name_scope\u001b[0m\u001b[0;34m)\u001b[0m\u001b[0;34m:\u001b[0m\u001b[0;34m\u001b[0m\u001b[0;34m\u001b[0m\u001b[0m\n\u001b[0m\u001b[1;32m    146\u001b[0m       \u001b[0;32mreturn\u001b[0m \u001b[0mgrad_fn\u001b[0m\u001b[0;34m(\u001b[0m\u001b[0mmock_op\u001b[0m\u001b[0;34m,\u001b[0m \u001b[0;34m*\u001b[0m\u001b[0mout_grads\u001b[0m\u001b[0;34m)\u001b[0m\u001b[0;34m\u001b[0m\u001b[0;34m\u001b[0m\u001b[0m\n\u001b[1;32m    147\u001b[0m   \u001b[0;32melse\u001b[0m\u001b[0;34m:\u001b[0m\u001b[0;34m\u001b[0m\u001b[0;34m\u001b[0m\u001b[0m\n",
            "\u001b[0;32m/usr/local/lib/python3.10/dist-packages/tensorflow/python/framework/ops.py\u001b[0m in \u001b[0;36mname_scope\u001b[0;34m(name, default_name, values, skip_on_eager)\u001b[0m\n\u001b[1;32m   6201\u001b[0m     \u001b[0;31m`\u001b[0m\u001b[0mname_scope\u001b[0m\u001b[0;34m*\u001b[0m\u001b[0;31m`\u001b[0m \u001b[0mcontext\u001b[0m \u001b[0mmanager\u001b[0m\u001b[0;34m.\u001b[0m\u001b[0;34m\u001b[0m\u001b[0;34m\u001b[0m\u001b[0m\n\u001b[1;32m   6202\u001b[0m   \"\"\"\n\u001b[0;32m-> 6203\u001b[0;31m   \u001b[0;32mif\u001b[0m \u001b[0;32mnot\u001b[0m \u001b[0mcontext\u001b[0m\u001b[0;34m.\u001b[0m\u001b[0mexecuting_eagerly\u001b[0m\u001b[0;34m(\u001b[0m\u001b[0;34m)\u001b[0m\u001b[0;34m:\u001b[0m\u001b[0;34m\u001b[0m\u001b[0;34m\u001b[0m\u001b[0m\n\u001b[0m\u001b[1;32m   6204\u001b[0m     \u001b[0;32mreturn\u001b[0m \u001b[0minternal_name_scope_v1\u001b[0m\u001b[0;34m(\u001b[0m\u001b[0mname\u001b[0m\u001b[0;34m,\u001b[0m \u001b[0mdefault_name\u001b[0m\u001b[0;34m,\u001b[0m \u001b[0mvalues\u001b[0m\u001b[0;34m)\u001b[0m\u001b[0;34m\u001b[0m\u001b[0;34m\u001b[0m\u001b[0m\n\u001b[1;32m   6205\u001b[0m \u001b[0;34m\u001b[0m\u001b[0m\n",
            "\u001b[0;32m/usr/local/lib/python3.10/dist-packages/tensorflow/python/eager/context.py\u001b[0m in \u001b[0;36mexecuting_eagerly\u001b[0;34m()\u001b[0m\n\u001b[1;32m   2306\u001b[0m     \u001b[0;32mreturn\u001b[0m \u001b[0mdefault_execution_mode\u001b[0m \u001b[0;34m==\u001b[0m \u001b[0mEAGER_MODE\u001b[0m\u001b[0;34m\u001b[0m\u001b[0;34m\u001b[0m\u001b[0m\n\u001b[1;32m   2307\u001b[0m \u001b[0;34m\u001b[0m\u001b[0m\n\u001b[0;32m-> 2308\u001b[0;31m   \u001b[0;32mreturn\u001b[0m \u001b[0mctx\u001b[0m\u001b[0;34m.\u001b[0m\u001b[0mexecuting_eagerly\u001b[0m\u001b[0;34m(\u001b[0m\u001b[0;34m)\u001b[0m\u001b[0;34m\u001b[0m\u001b[0;34m\u001b[0m\u001b[0m\n\u001b[0m\u001b[1;32m   2309\u001b[0m \u001b[0;34m\u001b[0m\u001b[0m\n\u001b[1;32m   2310\u001b[0m \u001b[0;34m\u001b[0m\u001b[0m\n",
            "\u001b[0;31mKeyboardInterrupt\u001b[0m: "
          ]
        }
      ],
      "source": [
        "\n",
        "# Devices\n",
        "physical_devices = tf.config.list_physical_devices('GPU')\n",
        "print(physical_devices)\n",
        "try:\n",
        "    tf.config.experimental.set_memory_growth(physical_devices[0], True)\n",
        "except:\n",
        "    # Invalid device or cannot modify virtual devices once initialized.\n",
        "    pass\n",
        "\n",
        "# Train the model with learning rate schedule and early stopping\n",
        "history = model.fit(train_dataset, validation_data=val_dataset, epochs=epochs, callbacks=[tf.keras.callbacks.LearningRateScheduler(lr_schedule),\n",
        "    clear_memory_callback, early_stopping, csv_logger_callback])"
      ]
    },
    {
      "cell_type": "markdown",
      "metadata": {
        "id": "tGNM6MeUDpnf"
      },
      "source": [
        "## Plotting testing and saving"
      ]
    },
    {
      "cell_type": "code",
      "execution_count": null,
      "metadata": {
        "id": "DhJH4Tz8Vw9F"
      },
      "outputs": [],
      "source": [
        "# Saving\n",
        "model_path = os.path.join(run_path, 'model')\n",
        "os.makedirs(model_path)\n",
        "model_file_path = os.path.join(model_path, 'model.h5')\n",
        "model.save(model_file_path)\n",
        "\n"
      ]
    },
    {
      "cell_type": "code",
      "source": [
        "# Plotting\n",
        "save_loss_accuracy_plots(history, plot_path)"
      ],
      "metadata": {
        "colab": {
          "base_uri": "https://localhost:8080/",
          "height": 1000
        },
        "id": "7pDJCShPpgqn",
        "outputId": "a26934fd-13e4-4036-c7c3-f489a72720d7"
      },
      "execution_count": null,
      "outputs": [
        {
          "output_type": "stream",
          "name": "stdout",
          "text": [
            "Plots saved successfully!\n"
          ]
        },
        {
          "output_type": "execute_result",
          "data": {
            "text/plain": [
              "<Figure size 800x1000 with 2 Axes>"
            ],
            "image/png": "[encoded data removed]"
          },
          "metadata": {},
          "execution_count": 51
        }
      ]
    },
    {
      "cell_type": "code",
      "source": [
        "# Testing\n",
        "test_loss, test_accuracy = tf.keras.models.load_model(model_file_path).evaluate(test_dataset)\n",
        "print(\"Test Loss:\", test_loss)\n",
        "print(\"Test Accuracy:\", test_accuracy)"
      ],
      "metadata": {
        "colab": {
          "base_uri": "https://localhost:8080/"
        },
        "id": "pP4MHsOMnP3b",
        "outputId": "9d91a079-44a3-4c3f-8329-fc8f403dc3a0"
      },
      "execution_count": null,
      "outputs": [
        {
          "output_type": "stream",
          "name": "stdout",
          "text": [
            "193/193 [==============================] - 9s 7ms/step - loss: 0.5610 - accuracy: 0.7226\n",
            "Test Loss: 0.5609751343727112\n",
            "Test Accuracy: 0.7225837707519531\n"
          ]
        }
      ]
    }
  ],
  "metadata": {
    "accelerator": "GPU",
    "colab": {
      "provenance": [],
      "gpuType": "T4"
    },
    "kernelspec": {
      "display_name": "Python 3",
      "name": "python3"
    },
    "language_info": {
      "name": "python"
    }
  },
  "nbformat": 4,
  "nbformat_minor": 0
}